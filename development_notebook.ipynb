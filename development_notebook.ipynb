{
 "cells": [
  {
   "cell_type": "code",
   "execution_count": 1,
   "metadata": {},
   "outputs": [],
   "source": [
    "import qdrant_client\n",
    "import torch\n",
    "import numpy as np\n",
    "import uuid\n",
    "\n",
    "import pandas as pd\n",
    "import numpy as np\n",
    "\n",
    "from qdrant_client.models import Distance, VectorParams, PointStruct, ScoredPoint\n",
    "from transformers import AutoTokenizer, AutoModel"
   ]
  },
  {
   "cell_type": "markdown",
   "metadata": {},
   "source": [
    "# Missing values\n",
    "I will check for missing values before train-test split, if there is few of them I will just remove them from the dataset whcih in this type of task will be fine as we need to creata reliable knowlege base."
   ]
  },
  {
   "cell_type": "code",
   "execution_count": 2,
   "metadata": {},
   "outputs": [
    {
     "name": "stdout",
     "output_type": "stream",
     "text": [
      "(16406, 2)\n"
     ]
    }
   ],
   "source": [
    "df = pd.read_csv('data/mle_screening_dataset.csv')\n",
    "print(df.shape)"
   ]
  },
  {
   "cell_type": "code",
   "execution_count": 3,
   "metadata": {},
   "outputs": [
    {
     "data": {
      "text/plain": [
       "question    0\n",
       "answer      5\n",
       "dtype: int64"
      ]
     },
     "execution_count": 3,
     "metadata": {},
     "output_type": "execute_result"
    }
   ],
   "source": [
    "df.isna().sum()"
   ]
  },
  {
   "cell_type": "code",
   "execution_count": 4,
   "metadata": {},
   "outputs": [
    {
     "data": {
      "text/html": [
       "<div>\n",
       "<style scoped>\n",
       "    .dataframe tbody tr th:only-of-type {\n",
       "        vertical-align: middle;\n",
       "    }\n",
       "\n",
       "    .dataframe tbody tr th {\n",
       "        vertical-align: top;\n",
       "    }\n",
       "\n",
       "    .dataframe thead th {\n",
       "        text-align: right;\n",
       "    }\n",
       "</style>\n",
       "<table border=\"1\" class=\"dataframe\">\n",
       "  <thead>\n",
       "    <tr style=\"text-align: right;\">\n",
       "      <th></th>\n",
       "      <th>question</th>\n",
       "      <th>answer</th>\n",
       "    </tr>\n",
       "  </thead>\n",
       "  <tbody>\n",
       "    <tr>\n",
       "      <th>3587</th>\n",
       "      <td>What is (are) HELLP syndrome ?</td>\n",
       "      <td>NaN</td>\n",
       "    </tr>\n",
       "    <tr>\n",
       "      <th>3836</th>\n",
       "      <td>What is (are) X-linked lymphoproliferative syn...</td>\n",
       "      <td>NaN</td>\n",
       "    </tr>\n",
       "    <tr>\n",
       "      <th>4196</th>\n",
       "      <td>What is (are) Familial HDL deficiency ?</td>\n",
       "      <td>NaN</td>\n",
       "    </tr>\n",
       "    <tr>\n",
       "      <th>4429</th>\n",
       "      <td>What is (are) Emery-Dreifuss muscular dystroph...</td>\n",
       "      <td>NaN</td>\n",
       "    </tr>\n",
       "    <tr>\n",
       "      <th>6689</th>\n",
       "      <td>What is (are) Emery-Dreifuss muscular dystroph...</td>\n",
       "      <td>NaN</td>\n",
       "    </tr>\n",
       "  </tbody>\n",
       "</table>\n",
       "</div>"
      ],
      "text/plain": [
       "                                               question answer\n",
       "3587                     What is (are) HELLP syndrome ?    NaN\n",
       "3836  What is (are) X-linked lymphoproliferative syn...    NaN\n",
       "4196            What is (are) Familial HDL deficiency ?    NaN\n",
       "4429  What is (are) Emery-Dreifuss muscular dystroph...    NaN\n",
       "6689  What is (are) Emery-Dreifuss muscular dystroph...    NaN"
      ]
     },
     "execution_count": 4,
     "metadata": {},
     "output_type": "execute_result"
    }
   ],
   "source": [
    "# there are 5 rows with no answers for questions (missing data), since the dataset is relatively large and we are going to use it as knowledge base we can drop it\n",
    "df[df['answer'].isna()]"
   ]
  },
  {
   "cell_type": "code",
   "execution_count": 5,
   "metadata": {},
   "outputs": [],
   "source": [
    "df = df[~df['answer'].isna()].copy()"
   ]
  },
  {
   "cell_type": "markdown",
   "metadata": {},
   "source": [
    "# Train Test split? Assumptions about the structure of the dataset and my solution\n",
    "\n",
    "Since I have limited time and resources and the aim of this task (as I assume) is to show that I have the general knowledge of how to solve such problems, in my solution I am going to use Vector Databases for searching for the most relevant documents and hugging face model for question answering (looking for the most important part of the text). Hence my solution does not include any training/fine tuning of any model. For that reason the train-test split is not needed."
   ]
  },
  {
   "cell_type": "code",
   "execution_count": 6,
   "metadata": {},
   "outputs": [
    {
     "data": {
      "text/html": [
       "<div>\n",
       "<style scoped>\n",
       "    .dataframe tbody tr th:only-of-type {\n",
       "        vertical-align: middle;\n",
       "    }\n",
       "\n",
       "    .dataframe tbody tr th {\n",
       "        vertical-align: top;\n",
       "    }\n",
       "\n",
       "    .dataframe thead th {\n",
       "        text-align: right;\n",
       "    }\n",
       "</style>\n",
       "<table border=\"1\" class=\"dataframe\">\n",
       "  <thead>\n",
       "    <tr style=\"text-align: right;\">\n",
       "      <th></th>\n",
       "      <th>question</th>\n",
       "      <th>answer</th>\n",
       "    </tr>\n",
       "  </thead>\n",
       "  <tbody>\n",
       "    <tr>\n",
       "      <th>0</th>\n",
       "      <td>What is (are) Glaucoma ?</td>\n",
       "      <td>Glaucoma is a group of diseases that can damag...</td>\n",
       "    </tr>\n",
       "    <tr>\n",
       "      <th>1</th>\n",
       "      <td>What is (are) Glaucoma ?</td>\n",
       "      <td>The optic nerve is a bundle of more than 1 mil...</td>\n",
       "    </tr>\n",
       "    <tr>\n",
       "      <th>2</th>\n",
       "      <td>What is (are) Glaucoma ?</td>\n",
       "      <td>Open-angle glaucoma is the most common form of...</td>\n",
       "    </tr>\n",
       "    <tr>\n",
       "      <th>3</th>\n",
       "      <td>Who is at risk for Glaucoma? ?</td>\n",
       "      <td>Anyone can develop glaucoma. Some people are a...</td>\n",
       "    </tr>\n",
       "    <tr>\n",
       "      <th>4</th>\n",
       "      <td>How to prevent Glaucoma ?</td>\n",
       "      <td>At this time, we do not know how to prevent gl...</td>\n",
       "    </tr>\n",
       "  </tbody>\n",
       "</table>\n",
       "</div>"
      ],
      "text/plain": [
       "                         question  \\\n",
       "0        What is (are) Glaucoma ?   \n",
       "1        What is (are) Glaucoma ?   \n",
       "2        What is (are) Glaucoma ?   \n",
       "3  Who is at risk for Glaucoma? ?   \n",
       "4       How to prevent Glaucoma ?   \n",
       "\n",
       "                                              answer  \n",
       "0  Glaucoma is a group of diseases that can damag...  \n",
       "1  The optic nerve is a bundle of more than 1 mil...  \n",
       "2  Open-angle glaucoma is the most common form of...  \n",
       "3  Anyone can develop glaucoma. Some people are a...  \n",
       "4  At this time, we do not know how to prevent gl...  "
      ]
     },
     "execution_count": 6,
     "metadata": {},
     "output_type": "execute_result"
    }
   ],
   "source": [
    "df.head()"
   ]
  },
  {
   "cell_type": "code",
   "execution_count": 7,
   "metadata": {},
   "outputs": [
    {
     "name": "stdout",
     "output_type": "stream",
     "text": [
      "<class 'pandas.core.frame.DataFrame'>\n",
      "Index: 16401 entries, 0 to 16405\n",
      "Data columns (total 2 columns):\n",
      " #   Column    Non-Null Count  Dtype \n",
      "---  ------    --------------  ----- \n",
      " 0   question  16401 non-null  object\n",
      " 1   answer    16401 non-null  object\n",
      "dtypes: object(2)\n",
      "memory usage: 384.4+ KB\n"
     ]
    }
   ],
   "source": [
    "df.info()"
   ]
  },
  {
   "cell_type": "code",
   "execution_count": 8,
   "metadata": {
    "scrolled": true
   },
   "outputs": [
    {
     "name": "stdout",
     "output_type": "stream",
     "text": [
      "Glaucoma is a group of diseases that can damage the eye's optic nerve and result in vision loss and blindness. The most common form of the disease is open-angle glaucoma. With early treatment, you can often protect your eyes against serious vision loss. (Watch the video to learn more about glaucoma. To enlarge the video, click the brackets in the lower right-hand corner. To reduce the video, press the Escape (Esc) button on your keyboard.)  See this graphic for a quick overview of glaucoma, including how many people it affects, whos at risk, what to do if you have it, and how to learn more.  See a glossary of glaucoma terms.\n",
      "====================================================\n",
      "The optic nerve is a bundle of more than 1 million nerve fibers. It connects the retina to the brain.\n",
      "====================================================\n",
      "Open-angle glaucoma is the most common form of glaucoma. In the normal eye, the clear fluid leaves the anterior chamber at the open angle where the cornea and iris meet. When the fluid reaches the angle, it flows through a spongy meshwork, like a drain, and leaves the eye. Sometimes, when the fluid reaches the angle, it passes too slowly through the meshwork drain, causing the pressure inside the eye to build. If the pressure damages the optic nerve, open-angle glaucoma -- and vision loss -- may result.\n",
      "====================================================\n",
      "National Eye Institute  National Institutes of Health  2020 Vision Place  Bethesda, MD 20892-3655  301-496-5248  E-mail: 2020@nei.nih.gov  www.nei.nih.gov The Glaucoma Foundation  80 Maiden Lane, Suite 700  New York, NY 10038  212-285-0080 Glaucoma Research Foundation  251 Post Street, Suite 600  San Francisco, CA 94108  1-800-826-6693\n",
      "====================================================\n",
      "Glaucoma is a group of diseases that can damage the eye's optic nerve. It is a leading cause of blindness in the United States. It usually happens when the fluid pressure inside the eyes slowly rises, damaging the optic nerve. Often there are no symptoms at first. Without treatment, people with glaucoma will slowly lose their peripheral, or side vision. They seem to be looking through a tunnel. Over time, straight-ahead vision may decrease until no vision remains.    A comprehensive eye exam can tell if you have glaucoma. People at risk should get eye exams at least every two years. They include       -  African Americans over age 40    -  People over age 60, especially Mexican Americans    -  People with a family history of glaucoma       There is no cure, but glaucoma can usually be controlled. Early treatment can help protect your eyes against vision loss. Treatments usually include prescription eyedrops and/or surgery.    NIH: National Eye Institute\n",
      "====================================================\n"
     ]
    }
   ],
   "source": [
    "# there are many rows for some questions and answers\n",
    "# we will need only part of the \"answer\" as an actual answer since some documents are very long\n",
    "# some \"answer\" values are irrelevant to the question\n",
    "for elem in df[df['question'] == 'What is (are) Glaucoma ?']['answer'].values:\n",
    "    print(elem)\n",
    "    print('====================================================')"
   ]
  },
  {
   "cell_type": "code",
   "execution_count": 9,
   "metadata": {
    "scrolled": true
   },
   "outputs": [
    {
     "name": "stdout",
     "output_type": "stream",
     "text": [
      "What are the symptoms of Autosomal recessive axonal neuropathy with neuromyotonia ?\n",
      "\n",
      "What are the signs and symptoms of Autosomal recessive axonal neuropathy with neuromyotonia? The Human Phenotype Ontology provides the following list of signs and symptoms for Autosomal recessive axonal neuropathy with neuromyotonia. If the information is available, the table below includes how often the symptom is seen in people with this condition. You can use the MedlinePlus Medical Dictionary to look up the definitions for these medical terms. Signs and Symptoms Approximate number of patients (when available) Abnormality of the foot - Autosomal recessive inheritance - Elevated serum creatine phosphokinase - Fasciculations - Foot dorsiflexor weakness - Hyperhidrosis - Muscle cramps - Muscle stiffness - Myokymia - Myotonia - Progressive - Sensory axonal neuropathy - Skeletal muscle atrophy - The Human Phenotype Ontology (HPO) has collected information on how often a sign or symptom occurs in a condition. Much of this information comes from Orphanet, a European rare disease database. The frequency of a sign or symptom is usually listed as a rough estimate of the percentage of patients who have that feature. The frequency may also be listed as a fraction. The first number of the fraction is how many people had the symptom, and the second number is the total number of people who were examined in one study. For example, a frequency of 25/25 means that in a study of 25 people all patients were found to have that symptom. Because these frequencies are based on a specific study, the fractions may be different if another group of patients are examined. Sometimes, no information on frequency is available. In these cases, the sign or symptom may be rare or common.\n",
      "\n",
      "=============================================================================================\n",
      "\n",
      "What to do for Solitary Kidney ?\n",
      "\n",
      "- When a person has only one kidney or one working kidney, this kidney is called a solitary kidney. The three main causes of a solitary kidney are birth defects, surgical removal of a kidney, and kidney donation.  - In general, people with a solitary kidney lead full, healthy lives. However, some people are more likely to develop kidney disease.  - People with a solitary kidney should be tested regularly for the following signs of kidney damage:      - albuminuria    - decreased glomerular filtration rate (GFR)    - high blood pressure    - People with a solitary kidney can protect their health by eating a nutritious diet, keeping their blood pressure at the appropriate level, and preventing injury to the working kidney.\n",
      "\n",
      "=============================================================================================\n",
      "\n",
      "Is Charcot-Marie-Tooth disease inherited ?\n",
      "\n",
      "The pattern of inheritance varies with the type of Charcot-Marie-Tooth disease. CMT1, most cases of CMT2, and most intermediate forms are inherited in an autosomal dominant pattern. This pattern of inheritance means that one copy of the altered gene in each cell is sufficient to cause the disorder. In most cases, an affected person has one affected parent.  CMT4, a few CMT2 subtypes, and some intermediate forms are inherited in an autosomal recessive pattern, which means both copies of the gene in each cell have mutations. Most often, the parents of an individual with an autosomal recessive condition each carry one copy of the mutated gene, but do not show signs and symptoms of the condition.  CMTX is inherited in an X-linked dominant pattern. A condition is considered X-linked if the mutated gene that causes the disorder is located on the X chromosome. The inheritance is dominant if one copy of the altered gene is sufficient to cause the condition. In most cases, affected males, who have the alteration on their only copy of the X chromosome, experience more severe symptoms of the disorder than females, who have two X chromosomes. A characteristic of X-linked inheritance is that fathers cannot pass X-linked traits to their sons. All daughters of affected men will have one altered X chromosome, but they may only have mild symptoms of the disorder.  Some cases of Charcot-Marie-Tooth disease result from a new mutation and occur in people with no history of the disorder in their family.\n",
      "\n",
      "=============================================================================================\n",
      "\n",
      "Is Kienbock's disease inherited ?\n",
      "\n",
      "Is Kienbock's disease inherited? There is currently no evidence that Kienbock's disease is inherited. However, the cause of Kienbock's disease is not known. It is possible that unidentified genetic factors contribute to the development of the condition.\n",
      "\n",
      "=============================================================================================\n",
      "\n",
      "How many people are affected by Cushing disease ?\n",
      "\n",
      "Cushing disease is estimated to occur in 10 to 15 per million people worldwide. For reasons that are unclear, Cushing disease affects females more often than males.\n",
      "\n",
      "=============================================================================================\n",
      "\n",
      "What is (are) Diabetic Retinopathy ?\n",
      "\n",
      "In this test, a special dye is injected into your arm. Pictures are taken as the dye passes through the blood vessels in your retina. The test allows your eye care professional to identify any leaking blood vessels and recommend treatment.\n",
      "\n",
      "=============================================================================================\n",
      "\n",
      "What are the symptoms of Neuropathy, hereditary motor and sensory, Okinawa type ?\n",
      "\n",
      "What are the signs and symptoms of Neuropathy, hereditary motor and sensory, Okinawa type? The Human Phenotype Ontology provides the following list of signs and symptoms for Neuropathy, hereditary motor and sensory, Okinawa type. If the information is available, the table below includes how often the symptom is seen in people with this condition. You can use the MedlinePlus Medical Dictionary to look up the definitions for these medical terms. Signs and Symptoms Approximate number of patients (when available) Hand tremor 5% Adult onset - Autosomal dominant inheritance - Decreased number of peripheral myelinated nerve fibers - Degeneration of anterior horn cells - Distal sensory impairment - Fasciculations - Gait disturbance - Gliosis - Hyperlipidemia - Mildly elevated creatine phosphokinase - Peripheral neuropathy - Proximal amyotrophy - Proximal muscle weakness - Slow progression - Tetraplegia - The Human Phenotype Ontology (HPO) has collected information on how often a sign or symptom occurs in a condition. Much of this information comes from Orphanet, a European rare disease database. The frequency of a sign or symptom is usually listed as a rough estimate of the percentage of patients who have that feature. The frequency may also be listed as a fraction. The first number of the fraction is how many people had the symptom, and the second number is the total number of people who were examined in one study. For example, a frequency of 25/25 means that in a study of 25 people all patients were found to have that symptom. Because these frequencies are based on a specific study, the fractions may be different if another group of patients are examined. Sometimes, no information on frequency is available. In these cases, the sign or symptom may be rare or common.\n",
      "\n",
      "=============================================================================================\n",
      "\n",
      "What is the outlook for Zellweger Syndrome ?\n",
      "\n",
      "The prognosis for infants with Zellweger syndrome is poor. Most infants do not survive past the first 6 months, and usually succumb to respiratory distress, gastrointestinal bleeding, or liver failure.\n",
      "\n",
      "=============================================================================================\n",
      "\n",
      "Who is at risk for Electrocardiogram? ?\n",
      "\n",
      "An electrocardiogram (EKG) has no serious risks. It's a harmless, painless test that detects the heart's electrical activity. EKGs don't give off electrical charges, such as shocks.\n",
      "                \n",
      "You may develop a mild rash where the electrodes (soft patches) were attached. This rash often goes away without treatment.\n",
      "\n",
      "=============================================================================================\n",
      "\n",
      "What are the treatments for congenital generalized lipodystrophy ?\n",
      "\n",
      "These resources address the diagnosis or management of congenital generalized lipodystrophy:  - Gene Review: Gene Review: Berardinelli-Seip Congenital Lipodystrophy  - Genetic Testing Registry: Berardinelli-Seip congenital lipodystrophy  - MedlinePlus Encyclopedia: Hypertrophic Cardiomypathy  - University of Texas Southwestern Medical Center: Lipodystrophy   These resources from MedlinePlus offer information about the diagnosis and management of various health conditions:  - Diagnostic Tests  - Drug Therapy  - Surgery and Rehabilitation  - Genetic Counseling   - Palliative Care\n",
      "\n",
      "=============================================================================================\n",
      "\n",
      "What are the treatments for Nijmegen breakage syndrome ?\n",
      "\n",
      "These resources address the diagnosis or management of Nijmegen breakage syndrome:  - Boston Children's Hospital: Pneumonia in Children  - Boston Children's Hospital: Sinusitis in Children  - Cleveland Clinic: Bronchitis  - Gene Review: Gene Review: Nijmegen Breakage Syndrome  - Genetic Testing Registry: Microcephaly, normal intelligence and immunodeficiency   These resources from MedlinePlus offer information about the diagnosis and management of various health conditions:  - Diagnostic Tests  - Drug Therapy  - Surgery and Rehabilitation  - Genetic Counseling   - Palliative Care\n",
      "\n",
      "=============================================================================================\n",
      "\n",
      "Is metatropic dysplasia inherited ?\n",
      "\n",
      "Metatropic dysplasia is considered an autosomal dominant disorder because one mutated copy of the TRPV4 gene in each cell is sufficient to cause the condition. Most cases of metatropic dysplasia are caused by new mutations in the gene and occur in people with no history of the disorder in their family. In a few reported cases, an affected person has inherited the condition from an affected parent.  In the past, it was thought that the lethal type of metatropic dysplasia had an autosomal recessive pattern of inheritance, in which both copies of the gene in each cell have mutations. However, more recent research has confirmed that all metatropic dysplasia has an autosomal dominant pattern of inheritance.\n",
      "\n",
      "=============================================================================================\n",
      "\n",
      "How many people are affected by allergic asthma ?\n",
      "\n",
      "Approximately 235 million people worldwide have asthma. In the United States, the condition affects an estimated 8 percent of the population. In nearly 90 percent of children and 50 percent of adults with asthma, the condition is classified as allergic asthma.\n",
      "\n",
      "=============================================================================================\n",
      "\n",
      "Is Blau syndrome inherited ?\n",
      "\n",
      "Blau syndrome is inherited in an autosomal dominant pattern, which means one copy of the altered gene in each cell is sufficient to cause the disorder. Most affected individuals have one parent with the condition.  In some cases, people with the characteristic features of Blau syndrome do not have a family history of the condition. Some researchers believe that these individuals have a non-inherited version of the disorder called early-onset sarcoidosis.\n",
      "\n",
      "=============================================================================================\n",
      "\n",
      "Is hereditary sensory and autonomic neuropathy type II inherited ?\n",
      "\n",
      "This condition is inherited in an autosomal recessive pattern, which means both copies of the gene in each cell have mutations. The parents of an individual with an autosomal recessive condition each carry one copy of the mutated gene, but they typically do not show signs and symptoms of the condition.\n",
      "\n",
      "=============================================================================================\n",
      "\n",
      "What are the symptoms of Polyarteritis nodosa ?\n",
      "\n",
      "What are the signs and symptoms of Polyarteritis nodosa? The Human Phenotype Ontology provides the following list of signs and symptoms for Polyarteritis nodosa. If the information is available, the table below includes how often the symptom is seen in people with this condition. You can use the MedlinePlus Medical Dictionary to look up the definitions for these medical terms. Signs and Symptoms Approximate number of patients (when available) Abdominal pain 90% Abnormal pyramidal signs 90% Abnormality of temperature regulation 90% Aneurysm 90% Arthralgia 90% Asthma 90% Cutis marmorata 90% Edema of the lower limbs 90% Hemiplegia/hemiparesis 90% Hypertensive crisis 90% Hypertrophic cardiomyopathy 90% Migraine 90% Myalgia 90% Nephropathy 90% Orchitis 90% Paresthesia 90% Polyneuropathy 90% Renal insufficiency 90% Skin rash 90% Subcutaneous hemorrhage 90% Vasculitis 90% Weight loss 90% Arrhythmia 50% Behavioral abnormality 50% Coronary artery disease 50% Gangrene 50% Gastrointestinal hemorrhage 50% Gastrointestinal infarctions 50% Leukocytosis 50% Seizures 50% Skin ulcer 50% Urticaria 50% Abnormality of extrapyramidal motor function 7.5% Abnormality of the pericardium 7.5% Abnormality of the retinal vasculature 7.5% Acrocyanosis 7.5% Arterial thrombosis 7.5% Arthritis 7.5% Ascites 7.5% Autoimmunity 7.5% Congestive heart failure 7.5% Encephalitis 7.5% Hemobilia 7.5% Inflammatory abnormality of the eye 7.5% Malabsorption 7.5% Myositis 7.5% Osteolysis 7.5% Osteomyelitis 7.5% Pancreatitis 7.5% Retinal detachment 7.5% Ureteral stenosis 7.5% The Human Phenotype Ontology (HPO) has collected information on how often a sign or symptom occurs in a condition. Much of this information comes from Orphanet, a European rare disease database. The frequency of a sign or symptom is usually listed as a rough estimate of the percentage of patients who have that feature. The frequency may also be listed as a fraction. The first number of the fraction is how many people had the symptom, and the second number is the total number of people who were examined in one study. For example, a frequency of 25/25 means that in a study of 25 people all patients were found to have that symptom. Because these frequencies are based on a specific study, the fractions may be different if another group of patients are examined. Sometimes, no information on frequency is available. In these cases, the sign or symptom may be rare or common.\n",
      "\n",
      "=============================================================================================\n",
      "\n",
      "What is (are) Parathyroid Disorders ?\n",
      "\n",
      "Most people have four pea-sized glands, called parathyroid glands, on the thyroid gland in the neck. Though their names are similar, the thyroid and parathyroid glands are completely different. The parathyroid glands make parathyroid hormone (PTH), which helps your body keep the right balance of calcium and phosphorous.    If your parathyroid glands make too much or too little hormone, it disrupts this balance. If they secrete extra PTH, you have hyperparathyroidism, and your blood calcium rises. In many cases, a benign tumor on a parathyroid gland makes it overactive. Or, the extra hormones can come from enlarged parathyroid glands. Very rarely, the cause is cancer.    If you do not have enough PTH, you have hypoparathyroidism. Your blood will have too little calcium and too much phosphorous. Causes include injury to the glands, endocrine disorders, or genetic conditions. Treatment is aimed at restoring the balance of calcium and phosphorous.    NIH: National Institute of Diabetes and Digestive and Kidney Diseases\n",
      "\n",
      "=============================================================================================\n",
      "\n",
      "What causes Juvenile Huntington disease ?\n",
      "\n",
      "What causes Juvenile Huntington disease (HD)? Mutations in the HTT gene cause Huntington disease. The HTT gene provides instructions for making a protein called huntingtin. Although the function of this protein is unknown, it appears to play an important role in nerve cells (neurons) in the brain. When the huntingtin protein is abnormally made, it is thought to lead to the death of neurons in certain areas of the brain, which causes the signs and symptoms of Juvenile HD. The HTT mutation that causes Huntington disease involves a DNA segment known as a CAG trinucleotide repeat. This segment is made up of a series of three DNA building blocks (cytosine, adenine, and guanine) that appear multiple times in a row. Normally, the CAG segment is repeated 10 to 35 times within the gene. In people with juvenile HD, the CAG segment is repeated more than 60 times.\n",
      "\n",
      "=============================================================================================\n",
      "\n",
      "Is hereditary cerebral amyloid angiopathy inherited ?\n",
      "\n",
      "Hereditary cerebral amyloid angiopathy caused by mutations in the APP, CST3, or ITM2B gene is inherited in an autosomal dominant pattern, which means one copy of the altered gene in each cell is sufficient to cause the disorder.  There is also a non-hereditary form of cerebral amyloid angiopathy that occurs in people with no history of the disorder in their family. The cause of this form of the condition is unknown. These cases are described as sporadic and are not inherited.\n",
      "\n",
      "=============================================================================================\n",
      "\n",
      "Who is at risk for Oral Cavity and Oropharyngeal Cancer? ?\n",
      "\n",
      "The number of new cases of oral cavity and oropharyngeal cancer and the number of deaths from oral cavity and oropharyngeal cancer varies by race and gender. Over the past ten years, the number of new cases and deaths from oral cavity and oropharyngeal cancer slightly increased in white men and women. The number slightly decreased among black men and women.   Oral cavity and oropharyngeal cancer is more common in men than in women. Although oral cavity and oropharyngeal cancer may occur in adults of any age, it occurs most often in those aged 55 to 64 years.   France, Brazil, and parts of Asia have much higher rates of oral cavity and oropharyngeal cancer than most other countries.    The number of new cases of oropharyngeal cancer caused by certain types of human papillomavirus (HPV) infection has increased. One kind of HPV, called HPV 16, is often passed from one person to another during sexual activity.\n",
      "\n",
      "=============================================================================================\n",
      "\n",
      "How many people are affected by Pelizaeus-Merzbacher disease ?\n",
      "\n",
      "The prevalence of Pelizaeus-Merzbacher disease is estimated to be 1 in 200,000 to 500,000 males in the United States. This condition rarely affects females.\n",
      "\n",
      "=============================================================================================\n",
      "\n",
      "What are the symptoms of Dyssegmental dysplasia Silverman-Handmaker type ?\n",
      "\n",
      "What are the signs and symptoms of Dyssegmental dysplasia Silverman-Handmaker type? The Human Phenotype Ontology provides the following list of signs and symptoms for Dyssegmental dysplasia Silverman-Handmaker type. If the information is available, the table below includes how often the symptom is seen in people with this condition. You can use the MedlinePlus Medical Dictionary to look up the definitions for these medical terms. Signs and Symptoms Approximate number of patients (when available) Abnormal form of the vertebral bodies 90% Abnormality of pelvic girdle bone morphology 90% Abnormality of the metaphyses 90% Blue sclerae 90% Bowing of the long bones 90% Limitation of joint mobility 90% Micromelia 90% Narrow chest 90% Short stature 90% Atria septal defect 50% Cleft palate 50% Depressed nasal ridge 50% Respiratory insufficiency 50% Umbilical hernia 50% Abnormality of the abdominal wall - Anisospondyly - Autosomal recessive inheritance - Cryptorchidism - Disproportionate short-limb short stature - Flat face - Malar flattening - Narrow mouth - Neonatal death - Overgrowth - Posteriorly rotated ears - Pulmonary hypoplasia - Skull defect - Talipes equinovarus - Thoracic hypoplasia - Wide nasal bridge - The Human Phenotype Ontology (HPO) has collected information on how often a sign or symptom occurs in a condition. Much of this information comes from Orphanet, a European rare disease database. The frequency of a sign or symptom is usually listed as a rough estimate of the percentage of patients who have that feature. The frequency may also be listed as a fraction. The first number of the fraction is how many people had the symptom, and the second number is the total number of people who were examined in one study. For example, a frequency of 25/25 means that in a study of 25 people all patients were found to have that symptom. Because these frequencies are based on a specific study, the fractions may be different if another group of patients are examined. Sometimes, no information on frequency is available. In these cases, the sign or symptom may be rare or common.\n",
      "\n",
      "=============================================================================================\n",
      "\n",
      "What is (are) dopamine beta-hydroxylase deficiency ?\n",
      "\n",
      "Dopamine beta ()-hydroxylase deficiency is a condition that affects the autonomic nervous system, which controls involuntary body processes such as the regulation of blood pressure and body temperature. Problems related to this disorder can first appear during infancy. Early signs and symptoms may include episodes of vomiting, dehydration, decreased blood pressure (hypotension), difficulty maintaining body temperature, and low blood sugar (hypoglycemia).  Individuals with dopamine -hydroxylase deficiency typically experience a sharp drop in blood pressure upon standing (orthostatic hypotension), which can cause dizziness, blurred vision, or fainting. This sudden drop in blood pressure is usually more severe when getting out of bed in the morning, during hot weather, and as a person gets older. People with dopamine -hydroxylase deficiency experience extreme fatigue during exercise (exercise intolerance) due to their problems maintaining a normal blood pressure.  Other features of dopamine -hydroxylase deficiency include droopy eyelids (ptosis), nasal congestion, and an inability to stand for a prolonged period of time. Affected males may also experience retrograde ejaculation, a discharge of semen backwards into the bladder. Less common features include an unusually large range of joint movement (hypermobility) and muscle weakness.\n",
      "\n",
      "=============================================================================================\n",
      "\n",
      "How to diagnose Sleep Apnea ?\n",
      "\n",
      "Doctors diagnose sleep apnea based on medical and family histories, a physical exam, and sleep study results. Your primary care doctor may evaluate your symptoms first. He or she will then decide whether you need to see a sleep specialist.\n",
      "                \n",
      "Sleep specialists are doctors who diagnose and treat people who have sleep problems. Examples of such doctors include lung and nerve specialists and ear, nose, and throat specialists. Other types of doctors also can be sleep specialists.\n",
      "                \n",
      "Medical and Family Histories\n",
      "                \n",
      "If you think you have a sleep problem, consider keeping a sleep diary for 1 to 2 weeks. Bring the diary with you to your next medical appointment.\n",
      "                \n",
      "Write down when you go to sleep, wake up, and take naps. Also write down how much you sleep each night, how alert and rested you feel in the morning, and how sleepy you feel at various times during the day. This information can help your doctor figure out whether you have a sleep disorder.\n",
      "                \n",
      "You can find a sample sleep diary in the National Heart, Lung, and Blood Institute's \"Your Guide to Healthy Sleep.\"\n",
      "                \n",
      "At your appointment, your doctor will ask you questions about how you sleep and how you function during the day.\n",
      "                \n",
      "Your doctor also will want to know how loudly and often you snore or make gasping or choking sounds during sleep. Often you're not aware of such symptoms and must ask a family member or bed partner to report them.\n",
      "                \n",
      "Let your doctor know if anyone in your family has been diagnosed with sleep apnea or has had symptoms of the disorder.\n",
      "                \n",
      "Many people aren't aware of their symptoms and aren't diagnosed.\n",
      "                \n",
      "If you're a parent of a child who may have sleep apnea, tell your child's doctor about your child's signs and symptoms.\n",
      "                \n",
      "Physical Exam\n",
      "                \n",
      "Your doctor will check your mouth, nose, and throat for extra or large tissues. Children who have sleep apnea might have enlarged tonsils. Doctors may need only a physical exam and medical history to diagnose sleep apnea in children.\n",
      "                \n",
      "Adults who have sleep apnea may have an enlarged uvula (U-vu-luh) or soft palate. The uvula is the tissue that hangs from the middle of the back of your mouth. The soft palate is the roof of your mouth in the back of your throat.\n",
      "                \n",
      "Sleep Studies\n",
      "                \n",
      "Sleep studies are tests that measure how well you sleep and how your body responds to sleep problems. These tests can help your doctor find out whether you have a sleep disorder and how severe it is. Sleep studies are the most accurate tests for diagnosing sleep apnea.\n",
      "                \n",
      "There are different kinds of sleep studies. If your doctor thinks you have sleep apnea, he or she may recommend a polysomnogram (poly-SOM-no-gram; also called a PSG) or a home-based portable monitor.\n",
      "                \n",
      "Polysomnogram\n",
      "                \n",
      "A PSG is the most common sleep study for diagnosing sleep apnea. This study records brain activity, eye movements, heart rate, and blood pressure.\n",
      "                \n",
      "A PSG also records the amount of oxygen in your blood, air movement through your nose while you breathe, snoring, and chest movements. The chest movements show whether you're making an effort to breathe.\n",
      "                \n",
      "PSGs often are done at sleep centers or sleep labs. The test is painless. You'll go to sleep as usual, except you'll have sensors attached to your scalp, face, chest, limbs, and a finger. The staff at the sleep center will use the sensors to check on you throughout the night.\n",
      "                \n",
      "A sleep specialist will review the results of your PSG to see whether you have sleep apnea and how severe it is. He or she will use the results to plan your treatment.\n",
      "                \n",
      "Your doctor also may use a PSG to find the best setting for you on a CPAP (continuous positive airway pressure) machine. CPAP is the most common treatment for sleep apnea. A CPAP machine uses mild air pressure to keep your airway open while you sleep.\n",
      "                \n",
      "If your doctor thinks that you have sleep apnea, he or she may schedule a split-night sleep study. During the first half of the night, your sleep will be checked without a CPAP machine. This will show whether you have sleep apnea and how severe it is.\n",
      "                \n",
      "If the PSG shows that you have sleep apnea, youll use a CPAP machine during the second half of the split-night study. The staff at the sleep center will adjust the flow of air from the CPAP machine to find the setting that works best for you.\n",
      "                \n",
      "Home-Based Portable Monitor\n",
      "                \n",
      "Your doctor may recommend a home-based sleep test with a portable monitor. The portable monitor will record some of the same information as a PSG. For example, it may record:\n",
      "                \n",
      "The amount of oxygen in your blood\n",
      "                \n",
      "Air movement through your nose while you breathe\n",
      "                \n",
      "Your heart rate\n",
      "                \n",
      "Chest movements that show whether you're making an effort to breathe\n",
      "                \n",
      "A sleep specialist may use the results from a home-based sleep test to help diagnose sleep apnea. He or she also may use the results to decide whether you need a full PSG study in a sleep center.\n",
      "\n",
      "=============================================================================================\n",
      "\n",
      "What is (are) Schizophrenia ?\n",
      "\n",
      "Schizophrenia is a serious brain illness. People who have it may hear voices that aren't there. They may think other people are trying to hurt them. Sometimes they don't make sense when they talk. The disorder makes it hard for them to keep a job or take care of themselves.    Symptoms of schizophrenia usually start between ages 16 and 30. Men often develop symptoms at a younger age than women. People usually do not get schizophrenia after age 45. There are three types of symptoms:       - Psychotic symptoms distort a person's thinking. These include hallucinations (hearing or seeing things that are not there), delusions (beliefs that are not true), trouble organizing thoughts, and strange movements.    - \"Negative\" symptoms make it difficult to show emotions and to function normally. A person may seem depressed and withdrawn.    - Cognitive symptoms affect the thought process. These include trouble using information, making decisions, and paying attention.       No one is sure what causes schizophrenia. Your genes, environment, and brain chemistry may play a role.    There is no cure. Medicine can help control many of the symptoms. You may need to try different medicines to see which works best. You should stay on your medicine for as long as your doctor recommends. Additional treatments can help you deal with your illness from day to day. These include therapy, family education, rehabilitation, and skills training.    NIH: National Institute of Mental Health\n",
      "\n",
      "=============================================================================================\n",
      "\n",
      "What are the treatments for Stevens-Johnson syndrome ?\n",
      "\n",
      "How might Stevens-Johnson syndrome be treated? Stevens-Johnson syndrome may be difficult to treat.[2147] Patients should be admitted to an intensive care or burn unit as soon as the diagnosis is suspected.[2145][2147] Treatment of severe symptoms may include:[2147] Antibiotics to control any skin infections Corticosteroids to control inflammation Intravenous immunoglobulins (IVIG) to stop the disease process Treatment for the eye may include artificial tears, antibiotics, or corticosteroids.[2144]\n",
      "\n",
      "=============================================================================================\n",
      "\n",
      "What are the treatments for ALG1-congenital disorder of glycosylation ?\n",
      "\n",
      "These resources address the diagnosis or management of ALG1-congenital disorder of glycosylation:  - Gene Review: Gene Review: Congenital Disorders of N-Linked Glycosylation Pathway Overview  - Genetic Testing Registry: Congenital disorder of glycosylation type 1K   These resources from MedlinePlus offer information about the diagnosis and management of various health conditions:  - Diagnostic Tests  - Drug Therapy  - Surgery and Rehabilitation  - Genetic Counseling   - Palliative Care\n",
      "\n",
      "=============================================================================================\n",
      "\n",
      "What are the treatments for Age-related Macular Degeneration ?\n",
      "\n",
      "Once dry AMD reaches the advanced stage, no form of treatment can prevent vision loss. However, treatment can delay and possibly prevent intermediate AMD from progressing to the advanced stage, in which vision loss occurs.\n",
      "\n",
      "=============================================================================================\n",
      "\n",
      "What are the genetic changes related to metatropic dysplasia ?\n",
      "\n",
      "Metatropic dysplasia is caused by mutations in the TRPV4 gene, which provides instructions for making a protein that acts as a calcium channel. The TRPV4 channel transports positively charged calcium atoms (calcium ions) across cell membranes and into cells. The channel is found in many types of cells, but little is known about its function. Studies suggest that it plays a role in the normal development of cartilage and bone. This role would help explain why TRPV4 gene mutations cause the skeletal abnormalities characteristic of metatropic dysplasia. Mutations in the TRPV4 gene appear to overactivate the channel, increasing the flow of calcium ions into cells. However, it remains unclear how changes in the activity of the calcium channel lead to the specific features of the condition.\n",
      "\n",
      "=============================================================================================\n",
      "\n",
      "What are the treatments for MPV17-related hepatocerebral mitochondrial DNA depletion syndrome ?\n",
      "\n",
      "These resources address the diagnosis or management of MPV17-related hepatocerebral mitochondrial DNA depletion syndrome:  - Gene Review: Gene Review: MPV17-Related Hepatocerebral Mitochondrial DNA Depletion Syndrome  - Genetic Testing Registry: Navajo neurohepatopathy  - The United Mitochondrial Disease Foundation: Treatments and Therapies   These resources from MedlinePlus offer information about the diagnosis and management of various health conditions:  - Diagnostic Tests  - Drug Therapy  - Surgery and Rehabilitation  - Genetic Counseling   - Palliative Care\n",
      "\n",
      "=============================================================================================\n",
      "\n"
     ]
    }
   ],
   "source": [
    "# sometimes values in column answer are very long, we can use only part of them to answer the question\n",
    "for i in np.random.choice(df.index, 30):\n",
    "    print(df.iloc[i]['question'])\n",
    "    print()\n",
    "    print(df.iloc[i]['answer'])\n",
    "    print()\n",
    "    print('=============================================================================================')\n",
    "    print()"
   ]
  },
  {
   "cell_type": "code",
   "execution_count": 10,
   "metadata": {},
   "outputs": [
    {
     "data": {
      "text/plain": [
       "(16401, 2)"
      ]
     },
     "execution_count": 10,
     "metadata": {},
     "output_type": "execute_result"
    }
   ],
   "source": [
    "df.shape"
   ]
  },
  {
   "cell_type": "code",
   "execution_count": 11,
   "metadata": {},
   "outputs": [
    {
     "data": {
      "text/plain": [
       "(14976,)"
      ]
     },
     "execution_count": 11,
     "metadata": {},
     "output_type": "execute_result"
    }
   ],
   "source": [
    "df['question'].unique().shape"
   ]
  },
  {
   "cell_type": "code",
   "execution_count": 12,
   "metadata": {},
   "outputs": [
    {
     "data": {
      "text/plain": [
       "(15811,)"
      ]
     },
     "execution_count": 12,
     "metadata": {},
     "output_type": "execute_result"
    }
   ],
   "source": [
    "df['answer'].unique().shape"
   ]
  },
  {
   "cell_type": "code",
   "execution_count": 13,
   "metadata": {},
   "outputs": [
    {
     "data": {
      "text/plain": [
       "np.int64(29046)"
      ]
     },
     "execution_count": 13,
     "metadata": {},
     "output_type": "execute_result"
    }
   ],
   "source": [
    "# some answers are very long, we will need to slice them into batches\n",
    "df['answer'].apply(len).max()"
   ]
  },
  {
   "cell_type": "markdown",
   "metadata": {},
   "source": [
    "# vector database\n",
    "we use vector database to find relevant values"
   ]
  },
  {
   "cell_type": "code",
   "execution_count": 14,
   "metadata": {},
   "outputs": [],
   "source": [
    "class VectorDatabase:\n",
    "    def __init__(self, collection_name=\"answers_collection\", embed_model=\"sentence-transformers/all-distilroberta-v1\"):\n",
    "        \"\"\"Vector database and embedding model initialization.\"\"\"\n",
    "        self.collection_name = collection_name\n",
    "        self.client = qdrant_client.QdrantClient(\":memory:\")\n",
    "    \n",
    "        # embedding model and tokenizer\n",
    "        self.tokenizer = AutoTokenizer.from_pretrained(embed_model)\n",
    "        self.model = AutoModel.from_pretrained(embed_model)\n",
    "\n",
    "        # create collection\n",
    "        self.client.recreate_collection(\n",
    "            collection_name=self.collection_name,\n",
    "            vectors_config=VectorParams(size=768, distance=Distance.COSINE)  # we are using cosine similarity\n",
    "        )\n",
    "\n",
    "    def get_embedding(self, text):\n",
    "        \"\"\"Create embeddings for provided text.\"\"\"\n",
    "        inputs = self.tokenizer(text, return_tensors=\"pt\", truncation=True, padding=True, max_length=512)\n",
    "        with torch.no_grad():\n",
    "            outputs = self.model(**inputs)\n",
    "        return outputs.last_hidden_state[:, 0, :].squeeze().numpy()\n",
    "\n",
    "    def split_text(self, text, chunk_size=500, overlap=100):\n",
    "        \"\"\"Divides text into smaller chunks with overlapping.\"\"\"\n",
    "        return [text[i : i + chunk_size] for i in range(0, len(text), chunk_size - overlap)]\n",
    "\n",
    "    def insert_answers(self, answers):\n",
    "        \"\"\"Insert answers into the Qdrant vector database.\"\"\"\n",
    "        points = []\n",
    "        for answer in answers:\n",
    "            chunks = self.split_text(answer)\n",
    "            for chunk in chunks:\n",
    "                embedding = self.get_embedding(chunk)\n",
    "                points.append(\n",
    "                    PointStruct(\n",
    "                        id=str(uuid.uuid4()),  # unique id\n",
    "                        vector=embedding.tolist(),  # embedding of the chunk\n",
    "                        payload={\"text\": chunk, \"full_text\": answer}  # store original text (both chunk and full)\n",
    "                    )\n",
    "                )\n",
    "        self.client.upsert(self.collection_name, points)\n",
    "\n",
    "    def search_answer(self, query, top_k=3):\n",
    "        \"\"\"Search for the most relevant answers in the collection.\"\"\"\n",
    "        query_embedding = self.get_embedding(query)\n",
    "        search_results = self.client.search(\n",
    "            collection_name=self.collection_name,\n",
    "            query_vector=query_embedding.tolist(),\n",
    "            limit=top_k\n",
    "        )\n",
    "        return search_results"
   ]
  },
  {
   "cell_type": "code",
   "execution_count": 15,
   "metadata": {},
   "outputs": [
    {
     "name": "stderr",
     "output_type": "stream",
     "text": [
      "C:\\Users\\jbyler\\AppData\\Local\\Temp\\ipykernel_2084\\4119082703.py:12: DeprecationWarning: `recreate_collection` method is deprecated and will be removed in the future. Use `collection_exists` to check collection existence and `create_collection` instead.\n",
      "  self.client.recreate_collection(\n"
     ]
    }
   ],
   "source": [
    "EMB_MODEL_NAME = \"sentence-transformers/all-distilroberta-v1\"\n",
    "COLLECTION_NAME = \"answers_collection\"\n",
    "\n",
    "vector_database = VectorDatabase(collection_name=COLLECTION_NAME, embed_model=EMB_MODEL_NAME)"
   ]
  },
  {
   "cell_type": "code",
   "execution_count": 16,
   "metadata": {},
   "outputs": [
    {
     "data": {
      "text/plain": [
       "\"Glaucoma is a group of diseases that can damage the eye's optic nerve and result in vision loss and blindness. The most common form of the disease is open-angle glaucoma. With early treatment, you can often protect your eyes against serious vision loss. (Watch the video to learn more about glaucoma. To enlarge the video, click the brackets in the lower right-hand corner. To reduce the video, press the Escape (Esc) button on your keyboard.)  See this graphic for a quick overview of glaucoma, including how many people it affects, whos at risk, what to do if you have it, and how to learn more.  See a glossary of glaucoma terms.\""
      ]
     },
     "execution_count": 16,
     "metadata": {},
     "output_type": "execute_result"
    }
   ],
   "source": [
    "# smaller sample for development\n",
    "answers = df['answer'].unique().tolist()[:100]\n",
    "answers[0]"
   ]
  },
  {
   "cell_type": "code",
   "execution_count": 17,
   "metadata": {},
   "outputs": [],
   "source": [
    "# create vector database with answers sample\n",
    "vector_database.insert_answers(answers)"
   ]
  },
  {
   "cell_type": "code",
   "execution_count": 18,
   "metadata": {},
   "outputs": [
    {
     "name": "stderr",
     "output_type": "stream",
     "text": [
      "C:\\Users\\jbyler\\AppData\\Local\\Temp\\ipykernel_2084\\4119082703.py:47: DeprecationWarning: `search` method is deprecated and will be removed in the future. Use `query_points` instead.\n",
      "  search_results = self.client.search(\n"
     ]
    }
   ],
   "source": [
    "# example usage:\n",
    "search_query = \"What are clinical trials?\"\n",
    "search_results = vector_database.search_answer(search_query)"
   ]
  },
  {
   "cell_type": "code",
   "execution_count": 19,
   "metadata": {},
   "outputs": [
    {
     "name": "stdout",
     "output_type": "stream",
     "text": [
      "🔍 Score: 0.709\n",
      "===========================================\n",
      "Text Chunk:\n",
      "Clinical trials are part of clinical research and at the heart of all treatment advances. Clinical trials look at new ways to prevent, detect, or treat disease. The National Institute of Mental Health at NIH supports research studies on mental health and disorders. To learn how clinical trials work, see  Participating in Clinical Trials. To see NIH-funded studies currently recruiting participants in anxiety disorders, visit www.ClinicalTrials.gov  and type in \"anxiety disorders.\" Clinical Trials\n",
      "===========================================\n",
      "Full Text:\n",
      "Clinical trials are part of clinical research and at the heart of all treatment advances. Clinical trials look at new ways to prevent, detect, or treat disease. The National Institute of Mental Health at NIH supports research studies on mental health and disorders. To learn how clinical trials work, see  Participating in Clinical Trials. To see NIH-funded studies currently recruiting participants in anxiety disorders, visit www.ClinicalTrials.gov  and type in \"anxiety disorders.\" Clinical Trials.gov is the NIH/National Library of Medicine's registry of federally and privately funded clinical trials for all disease. To see personal stories of people who have volunteered for clinical trials, visit  NIH Clinical Trials Research and You.\n",
      "\n",
      "\n",
      "🔍 Score: 0.398\n",
      "===========================================\n",
      "Text Chunk:\n",
      "in anxiety disorders, visit www.ClinicalTrials.gov  and type in \"anxiety disorders.\" Clinical Trials.gov is the NIH/National Library of Medicine's registry of federally and privately funded clinical trials for all disease. To see personal stories of people who have volunteered for clinical trials, visit  NIH Clinical Trials Research and You.\n",
      "===========================================\n",
      "Full Text:\n",
      "Clinical trials are part of clinical research and at the heart of all treatment advances. Clinical trials look at new ways to prevent, detect, or treat disease. The National Institute of Mental Health at NIH supports research studies on mental health and disorders. To learn how clinical trials work, see  Participating in Clinical Trials. To see NIH-funded studies currently recruiting participants in anxiety disorders, visit www.ClinicalTrials.gov  and type in \"anxiety disorders.\" Clinical Trials.gov is the NIH/National Library of Medicine's registry of federally and privately funded clinical trials for all disease. To see personal stories of people who have volunteered for clinical trials, visit  NIH Clinical Trials Research and You.\n",
      "\n",
      "\n",
      "🔍 Score: 0.340\n",
      "===========================================\n",
      "Text Chunk:\n",
      "National Eye Institute  National Institutes of Health  2020 Vision Place  Bethesda, MD 20892-3655  301-496-5248  E-mail: 2020@nei.nih.gov  www.nei.nih.gov The Glaucoma Foundation  80 Maiden Lane, Suite 700  New York, NY 10038  212-285-0080 Glaucoma Research Foundation  251 Post Street, Suite 600  San Francisco, CA 94108  1-800-826-6693\n",
      "===========================================\n",
      "Full Text:\n",
      "National Eye Institute  National Institutes of Health  2020 Vision Place  Bethesda, MD 20892-3655  301-496-5248  E-mail: 2020@nei.nih.gov  www.nei.nih.gov The Glaucoma Foundation  80 Maiden Lane, Suite 700  New York, NY 10038  212-285-0080 Glaucoma Research Foundation  251 Post Street, Suite 600  San Francisco, CA 94108  1-800-826-6693\n",
      "\n",
      "\n"
     ]
    }
   ],
   "source": [
    "# score, chunk of the text and full text for top 3 results\n",
    "for result in search_results:\n",
    "    print(f\"🔍 Score: {result.score:.3f}\")\n",
    "    print('===========================================')\n",
    "    print(f\"Text Chunk:\\n{result.payload['text']}\")\n",
    "    print('===========================================')\n",
    "    print(f\"Full Text:\\n{result.payload['full_text']}\")\n",
    "    print()\n",
    "    print()"
   ]
  },
  {
   "cell_type": "markdown",
   "metadata": {},
   "source": [
    "# Question answering model"
   ]
  },
  {
   "cell_type": "code",
   "execution_count": 20,
   "metadata": {},
   "outputs": [],
   "source": [
    "from transformers import pipeline\n",
    "\n",
    "class QuestionAnsweringModel:\n",
    "    def __init__(self, model_name=\"distilbert-base-uncased-distilled-squad\"):\n",
    "        \"\"\"Initialize the Hugging Face QA model.\"\"\"\n",
    "        self.qa_pipeline = pipeline(\"question-answering\", model=model_name)\n",
    "\n",
    "    def get_best_result(self, query, search_results, min_score=0.3):\n",
    "        \"\"\"\n",
    "        Select the best among search results using hugging face question-answering model.\n",
    "        \"\"\"\n",
    "        # here we create dummy best result\n",
    "        # it has default score equal to 0.3 since below that value usually answers are unreliable \n",
    "        # in that case we return info, that answer could not be found\n",
    "        # we can change it so that it always returns \"something\"\n",
    "        best_result = {\n",
    "            'score': min_score,\n",
    "            'start': 0,\n",
    "            'end': 33,\n",
    "            'answer': \"Sorry, I couldn't find an answer.\",\n",
    "            'chunk': \"Sorry, I couldn't find an answer.\",\n",
    "            'full_text': \"Sorry, I couldn't find an answer.\"\n",
    "        }\n",
    "\n",
    "        # for each search result we look for good answer\n",
    "        for hit in search_results:\n",
    "            chunk = hit.payload['text']\n",
    "            full_text = hit.payload['full_text']\n",
    "            \n",
    "            result = self.qa_pipeline(question=query, context=chunk)\n",
    "            \n",
    "            result['chunk'] = chunk\n",
    "            result['full_text'] = full_text\n",
    "\n",
    "            # if the answer is the best to this moment we save it with the chunk and full text\n",
    "            if result['score'] > best_result['score']:\n",
    "                best_result = result.copy()\n",
    "\n",
    "        return best_result"
   ]
  },
  {
   "cell_type": "code",
   "execution_count": 21,
   "metadata": {},
   "outputs": [
    {
     "name": "stderr",
     "output_type": "stream",
     "text": [
      "Device set to use cpu\n"
     ]
    }
   ],
   "source": [
    "QA_MODEL_NAME = \"distilbert-base-uncased-distilled-squad\"\n",
    "question_answering_model = QuestionAnsweringModel(QA_MODEL_NAME)"
   ]
  },
  {
   "cell_type": "code",
   "execution_count": 22,
   "metadata": {},
   "outputs": [
    {
     "data": {
      "text/plain": [
       "{'score': 0.4432848393917084,\n",
       " 'start': 20,\n",
       " 'end': 88,\n",
       " 'answer': 'part of clinical research and at the heart of all treatment advances',\n",
       " 'chunk': 'Clinical trials are part of clinical research and at the heart of all treatment advances. Clinical trials look at new ways to prevent, detect, or treat disease. The National Institute of Mental Health at NIH supports research studies on mental health and disorders. To learn how clinical trials work, see  Participating in Clinical Trials. To see NIH-funded studies currently recruiting participants in anxiety disorders, visit www.ClinicalTrials.gov  and type in \"anxiety disorders.\" Clinical Trials',\n",
       " 'full_text': 'Clinical trials are part of clinical research and at the heart of all treatment advances. Clinical trials look at new ways to prevent, detect, or treat disease. The National Institute of Mental Health at NIH supports research studies on mental health and disorders. To learn how clinical trials work, see  Participating in Clinical Trials. To see NIH-funded studies currently recruiting participants in anxiety disorders, visit www.ClinicalTrials.gov  and type in \"anxiety disorders.\" Clinical Trials.gov is the NIH/National Library of Medicine\\'s registry of federally and privately funded clinical trials for all disease. To see personal stories of people who have volunteered for clinical trials, visit  NIH Clinical Trials Research and You.'}"
      ]
     },
     "execution_count": 22,
     "metadata": {},
     "output_type": "execute_result"
    }
   ],
   "source": [
    "# output of our solution\n",
    "result = question_answering_model.get_best_result(search_query, search_results)\n",
    "result"
   ]
  },
  {
   "cell_type": "markdown",
   "metadata": {},
   "source": [
    "# Evaluation"
   ]
  },
  {
   "cell_type": "code",
   "execution_count": 23,
   "metadata": {},
   "outputs": [
    {
     "name": "stderr",
     "output_type": "stream",
     "text": [
      "C:\\Users\\jbyler\\AppData\\Local\\Temp\\ipykernel_2084\\4119082703.py:12: DeprecationWarning: `recreate_collection` method is deprecated and will be removed in the future. Use `collection_exists` to check collection existence and `create_collection` instead.\n",
      "  self.client.recreate_collection(\n"
     ]
    }
   ],
   "source": [
    "EMB_MODEL_NAME = \"sentence-transformers/all-distilroberta-v1\"\n",
    "COLLECTION_NAME = \"answers_collection\"\n",
    "\n",
    "vector_database = VectorDatabase(collection_name=COLLECTION_NAME, embed_model=EMB_MODEL_NAME)"
   ]
  },
  {
   "cell_type": "code",
   "execution_count": 24,
   "metadata": {},
   "outputs": [
    {
     "name": "stderr",
     "output_type": "stream",
     "text": [
      "Device set to use cpu\n"
     ]
    }
   ],
   "source": [
    "QA_MODEL_NAME = \"distilbert-base-uncased-distilled-squad\"\n",
    "question_answering_model = QuestionAnsweringModel(QA_MODEL_NAME)"
   ]
  },
  {
   "cell_type": "code",
   "execution_count": 25,
   "metadata": {},
   "outputs": [
    {
     "name": "stderr",
     "output_type": "stream",
     "text": [
      "C:\\Users\\jbyler\\AppData\\Local\\Temp\\ipykernel_2084\\4119082703.py:42: UserWarning: Local mode is not recommended for collections with more than 20,000 points. Current collection contains 60270 points. Consider using Qdrant in Docker or Qdrant Cloud for better performance with large datasets.\n",
      "  self.client.upsert(self.collection_name, points)\n"
     ]
    }
   ],
   "source": [
    "# insert whole database\n",
    "vector_database.insert_answers(df['answer'].unique().tolist())"
   ]
  },
  {
   "cell_type": "code",
   "execution_count": 26,
   "metadata": {},
   "outputs": [
    {
     "data": {
      "text/html": [
       "<div>\n",
       "<style scoped>\n",
       "    .dataframe tbody tr th:only-of-type {\n",
       "        vertical-align: middle;\n",
       "    }\n",
       "\n",
       "    .dataframe tbody tr th {\n",
       "        vertical-align: top;\n",
       "    }\n",
       "\n",
       "    .dataframe thead th {\n",
       "        text-align: right;\n",
       "    }\n",
       "</style>\n",
       "<table border=\"1\" class=\"dataframe\">\n",
       "  <thead>\n",
       "    <tr style=\"text-align: right;\">\n",
       "      <th></th>\n",
       "      <th>question</th>\n",
       "      <th>answer</th>\n",
       "    </tr>\n",
       "  </thead>\n",
       "  <tbody>\n",
       "    <tr>\n",
       "      <th>15086</th>\n",
       "      <td>What is (are) methylmalonic acidemia with homo...</td>\n",
       "      <td>Methylmalonic acidemia with homocystinuria is ...</td>\n",
       "    </tr>\n",
       "    <tr>\n",
       "      <th>7089</th>\n",
       "      <td>How to diagnose Cone dystrophy ?</td>\n",
       "      <td>How is cone dystrophy diagnosed? The diagnosis...</td>\n",
       "    </tr>\n",
       "    <tr>\n",
       "      <th>11338</th>\n",
       "      <td>What are the genetic changes related to Horner...</td>\n",
       "      <td>Although congenital Horner syndrome can be pas...</td>\n",
       "    </tr>\n",
       "    <tr>\n",
       "      <th>10386</th>\n",
       "      <td>What is (are) Lujan syndrome ?</td>\n",
       "      <td>Lujan syndrome is a condition characterized by...</td>\n",
       "    </tr>\n",
       "    <tr>\n",
       "      <th>14517</th>\n",
       "      <td>How many people are affected by Guillain-Barr ...</td>\n",
       "      <td>The prevalence of Guillain-Barr syndrome is es...</td>\n",
       "    </tr>\n",
       "    <tr>\n",
       "      <th>...</th>\n",
       "      <td>...</td>\n",
       "      <td>...</td>\n",
       "    </tr>\n",
       "    <tr>\n",
       "      <th>14163</th>\n",
       "      <td>What are the genetic changes related to fibrod...</td>\n",
       "      <td>Mutations in the ACVR1 gene cause fibrodysplas...</td>\n",
       "    </tr>\n",
       "    <tr>\n",
       "      <th>15679</th>\n",
       "      <td>What is (are) Hypoglycemia ?</td>\n",
       "      <td>Hypoglycemia, also called low blood glucose or...</td>\n",
       "    </tr>\n",
       "    <tr>\n",
       "      <th>2206</th>\n",
       "      <td>What is (are) Plague ?</td>\n",
       "      <td>Plague is an infection caused by the bacterium...</td>\n",
       "    </tr>\n",
       "    <tr>\n",
       "      <th>15839</th>\n",
       "      <td>What causes Fecal Incontinence ?</td>\n",
       "      <td>Fecal incontinence has many causes, including\\...</td>\n",
       "    </tr>\n",
       "    <tr>\n",
       "      <th>11595</th>\n",
       "      <td>What are the treatments for KBG syndrome ?</td>\n",
       "      <td>These resources address the diagnosis or manag...</td>\n",
       "    </tr>\n",
       "  </tbody>\n",
       "</table>\n",
       "<p>1000 rows × 2 columns</p>\n",
       "</div>"
      ],
      "text/plain": [
       "                                                question  \\\n",
       "15086  What is (are) methylmalonic acidemia with homo...   \n",
       "7089                    How to diagnose Cone dystrophy ?   \n",
       "11338  What are the genetic changes related to Horner...   \n",
       "10386                     What is (are) Lujan syndrome ?   \n",
       "14517  How many people are affected by Guillain-Barr ...   \n",
       "...                                                  ...   \n",
       "14163  What are the genetic changes related to fibrod...   \n",
       "15679                       What is (are) Hypoglycemia ?   \n",
       "2206                              What is (are) Plague ?   \n",
       "15839                   What causes Fecal Incontinence ?   \n",
       "11595         What are the treatments for KBG syndrome ?   \n",
       "\n",
       "                                                  answer  \n",
       "15086  Methylmalonic acidemia with homocystinuria is ...  \n",
       "7089   How is cone dystrophy diagnosed? The diagnosis...  \n",
       "11338  Although congenital Horner syndrome can be pas...  \n",
       "10386  Lujan syndrome is a condition characterized by...  \n",
       "14517  The prevalence of Guillain-Barr syndrome is es...  \n",
       "...                                                  ...  \n",
       "14163  Mutations in the ACVR1 gene cause fibrodysplas...  \n",
       "15679  Hypoglycemia, also called low blood glucose or...  \n",
       "2206   Plague is an infection caused by the bacterium...  \n",
       "15839  Fecal incontinence has many causes, including\\...  \n",
       "11595  These resources address the diagnosis or manag...  \n",
       "\n",
       "[1000 rows x 2 columns]"
      ]
     },
     "execution_count": 26,
     "metadata": {},
     "output_type": "execute_result"
    }
   ],
   "source": [
    "# we test the quality of question answering on smaller sample\n",
    "sample = df.sample(1000,random_state = 101)\n",
    "sample"
   ]
  },
  {
   "cell_type": "code",
   "execution_count": 27,
   "metadata": {},
   "outputs": [],
   "source": [
    "# function for finding the document based on which according to our solution the answer should be provided\n",
    "def find_answer(search_query):\n",
    "    search_results = vector_database.search_answer(search_query)\n",
    "    result = question_answering_model.get_best_result(search_query, search_results)\n",
    "    return result['full_text']"
   ]
  },
  {
   "cell_type": "code",
   "execution_count": 28,
   "metadata": {},
   "outputs": [
    {
     "name": "stderr",
     "output_type": "stream",
     "text": [
      "C:\\Users\\jbyler\\AppData\\Local\\Temp\\ipykernel_2084\\4119082703.py:47: DeprecationWarning: `search` method is deprecated and will be removed in the future. Use `query_points` instead.\n",
      "  search_results = self.client.search(\n"
     ]
    }
   ],
   "source": [
    "# it will be compared to document in provided dataset\n",
    "sample['pred_answer'] = sample.apply(lambda x: find_answer(x['question']), axis = 1)"
   ]
  },
  {
   "cell_type": "code",
   "execution_count": 29,
   "metadata": {},
   "outputs": [
    {
     "data": {
      "text/plain": [
       "np.float64(0.24)"
      ]
     },
     "execution_count": 29,
     "metadata": {},
     "output_type": "execute_result"
    }
   ],
   "source": [
    "# exact match accuracy for sample\n",
    "(sample['answer'] == sample['pred_answer']).mean()"
   ]
  },
  {
   "cell_type": "code",
   "execution_count": 30,
   "metadata": {},
   "outputs": [
    {
     "data": {
      "text/plain": [
       "np.float64(0.217)"
      ]
     },
     "execution_count": 30,
     "metadata": {},
     "output_type": "execute_result"
    }
   ],
   "source": [
    "# share of \"I don't know\" answers\n",
    "(\"Sorry, I couldn't find an answer.\" == sample['pred_answer']).mean()"
   ]
  },
  {
   "cell_type": "code",
   "execution_count": 31,
   "metadata": {},
   "outputs": [
    {
     "data": {
      "text/plain": [
       "np.float64(0.3065134099616858)"
      ]
     },
     "execution_count": 31,
     "metadata": {},
     "output_type": "execute_result"
    }
   ],
   "source": [
    "# exact match accuracy for cases where model did not answer \"I don't know\"\n",
    "certain_sample = sample[sample['pred_answer'] != \"Sorry, I couldn't find an answer.\"]\n",
    "\n",
    "(certain_sample['answer'] == certain_sample['pred_answer']).mean()"
   ]
  },
  {
   "cell_type": "code",
   "execution_count": 32,
   "metadata": {},
   "outputs": [
    {
     "name": "stdout",
     "output_type": "stream",
     "text": [
      "What is (are) methylmalonic acidemia with homocystinuria ?\n",
      "=================================================\n",
      "Methylmalonic acidemia with homocystinuria is an inherited disorder in which the body is unable to properly process protein building blocks (amino acids), certain fats (lipids), and a waxy fat-like substance called cholesterol. Individuals with this disorder have a combination of features from two separate conditions, methylmalonic acidemia and homocystinuria. The signs and symptoms of the combined condition, methylmalonic acidemia with homocystinuria, usually develop in infancy, although they can begin at any age.  When the condition begins early in life, affected individuals typically have an inability to grow and gain weight at the expected rate (failure to thrive), which is sometimes recognized before birth (intrauterine growth retardation). These infants can also have difficulty feeding and an abnormally pale appearance (pallor). Neurological problems are also common in methylmalonic acidemia with homocystinuria, including weak muscle tone (hypotonia) and seizures. Most infants and children with this condition have an unusually small head size (microcephaly), delayed development, and intellectual disability. Less common features of the condition include eye problems and a blood disorder called megaloblastic anemia. Megaloblastic anemia occurs when a person has a low number of red blood cells (anemia), and the remaining red blood cells are larger than normal (megaloblastic). The signs and symptoms of methylmalonic acidemia with homocystinuria worsen over time, and the condition can be life-threatening if not treated.  When methylmalonic acidemia with homocystinuria begins in adolescence or adulthood, the signs and symptoms usually include psychiatric changes and cognitive problems. Affected individuals can exhibit changes in their behavior and personality; they may become less social and may experience hallucinations, delirium, and psychosis. In addition, these individuals can begin to lose previously acquired mental and movement abilities, resulting in a decline in school or work performance, difficulty controlling movements, memory problems, speech difficulties, a decline in intellectual function (dementia), or an extreme lack of energy (lethargy). Some people with methylmalonic acidemia with homocystinuria whose signs and symptoms begin later in life develop a condition called subacute combined degeneration of the spinal cord, which leads to numbness and weakness in the lower limbs, difficulty walking, and frequent falls.\n",
      "=================================================\n",
      "These resources address the diagnosis or management of methylmalonic acidemia with homocystinuria:  - Baby's First Test: Methylmalonic Acidemia with Homocystinuria  - Gene Review: Gene Review: Disorders of Intracellular Cobalamin Metabolism  - Genetic Testing Registry: METHYLMALONIC ACIDURIA AND HOMOCYSTINURIA, cblF TYPE  - Genetic Testing Registry: METHYLMALONIC ACIDURIA AND HOMOCYSTINURIA, cblJ TYPE  - Genetic Testing Registry: Methylmalonic acidemia with homocystinuria  - Genetic Testing Registry: Methylmalonic acidemia with homocystinuria cblD   These resources from MedlinePlus offer information about the diagnosis and management of various health conditions:  - Diagnostic Tests  - Drug Therapy  - Surgery and Rehabilitation  - Genetic Counseling   - Palliative Care\n"
     ]
    }
   ],
   "source": [
    "# manual check for wrong answers - are they really that far away?\n",
    "i  = 0\n",
    "print(certain_sample[certain_sample['answer'] != certain_sample['pred_answer']]['question'].values[i])\n",
    "print('=================================================')\n",
    "print(certain_sample[certain_sample['answer'] != certain_sample['pred_answer']]['answer'].values[i])\n",
    "print('=================================================')\n",
    "print(certain_sample[certain_sample['answer'] != certain_sample['pred_answer']]['pred_answer'].values[i])"
   ]
  },
  {
   "cell_type": "code",
   "execution_count": 33,
   "metadata": {},
   "outputs": [
    {
     "name": "stdout",
     "output_type": "stream",
     "text": [
      "What are the genetic changes related to Horner syndrome ?\n",
      "=================================================\n",
      "Although congenital Horner syndrome can be passed down in families, no associated genes have been identified. Horner syndrome that appears after the newborn period (acquired Horner syndrome) and most cases of congenital Horner syndrome result from damage to nerves called the cervical sympathetics. These nerves belong to the part of the nervous system that controls involuntary functions (the autonomic nervous system). Within the autonomic nervous system, the nerves are part of a subdivision called the sympathetic nervous system. The cervical sympathetic nerves control several functions in the eye and face such as dilation of the pupil and sweating. Problems with the function of these nerves cause the signs and symptoms of Horner syndrome. Horner syndrome that occurs very early in life can lead to iris heterochromia because the development of the pigmentation (coloring) of the iris is under the control of the cervical sympathetic nerves.  Damage to the cervical sympathetic nerves can be caused by a direct injury to the nerves themselves, which can result from trauma that might occur during a difficult birth, surgery, or accidental injury. The nerves related to Horner syndrome can also be damaged by a benign or cancerous tumor, for example a childhood cancer of the nerve tissues called a neuroblastoma.  Horner syndrome can also be caused by problems with the artery that supplies blood to the head and neck (the carotid artery) on the affected side, resulting in loss of blood flow to the nerves. Some individuals with congenital Horner syndrome have a lack of development (agenesis) of the carotid artery. Tearing of the layers of the carotid artery wall (carotid artery dissection) can also lead to Horner syndrome.  The signs and symptoms of Horner syndrome can also occur during a migraine headache. When the headache is gone, the signs and symptoms of Horner syndrome usually also go away.  Some people with Horner syndrome have neither a known problem that would lead to nerve damage nor any history of the disorder in their family. These cases are referred to as idiopathic Horner syndrome.\n",
      "=================================================\n",
      "Horner syndrome is usually not inherited and occurs in individuals with no history of the disorder in their family. Acquired Horner syndrome and most cases of congenital Horner syndrome have nongenetic causes. Rarely, congenital Horner syndrome is passed down within a family in a pattern that appears to be autosomal dominant, which means one copy of an altered gene in each cell is sufficient to cause the disorder. However, no genes associated with Horner syndrome have been identified.\n"
     ]
    }
   ],
   "source": [
    "i  = 1\n",
    "print(certain_sample[certain_sample['answer'] != certain_sample['pred_answer']]['question'].values[i])\n",
    "print('=================================================')\n",
    "print(certain_sample[certain_sample['answer'] != certain_sample['pred_answer']]['answer'].values[i])\n",
    "print('=================================================')\n",
    "print(certain_sample[certain_sample['answer'] != certain_sample['pred_answer']]['pred_answer'].values[i])"
   ]
  },
  {
   "cell_type": "code",
   "execution_count": 34,
   "metadata": {},
   "outputs": [
    {
     "name": "stdout",
     "output_type": "stream",
     "text": [
      "What are the symptoms of Ainhum ?\n",
      "=================================================\n",
      "What are the signs and symptoms of Ainhum? The Human Phenotype Ontology provides the following list of signs and symptoms for Ainhum. If the information is available, the table below includes how often the symptom is seen in people with this condition. You can use the MedlinePlus Medical Dictionary to look up the definitions for these medical terms. Signs and Symptoms Approximate number of patients (when available) Amniotic constriction ring - Autosomal dominant inheritance - The Human Phenotype Ontology (HPO) has collected information on how often a sign or symptom occurs in a condition. Much of this information comes from Orphanet, a European rare disease database. The frequency of a sign or symptom is usually listed as a rough estimate of the percentage of patients who have that feature. The frequency may also be listed as a fraction. The first number of the fraction is how many people had the symptom, and the second number is the total number of people who were examined in one study. For example, a frequency of 25/25 means that in a study of 25 people all patients were found to have that symptom. Because these frequencies are based on a specific study, the fractions may be different if another group of patients are examined. Sometimes, no information on frequency is available. In these cases, the sign or symptom may be rare or common.\n",
      "=================================================\n",
      "Genoa syndrome is a rare condition that primarily affects the brain and skull. Babies with this condition are generally born with semilobar holoprosencephaly, a disorder caused by failure of the developing brain to sufficiently divide into the double lobes of the cerebral hemispheres. They later develop craniosynostosis (the premature closure of one or more of the fibrous joints between the bones of the skull before brain growth is complete). Genoa syndrome also appears to be associated with other skeletal abnormalities, including those of the hands, and distinctive facial features. The underlying genetic cause of the condition is currently unknown. Some reports suggest that Genoa syndrome may be inherited in an autosomal recessive manner. Treatment is supportive and based on the signs and symptoms present in each person.\n"
     ]
    }
   ],
   "source": [
    "i  = 2\n",
    "print(certain_sample[certain_sample['answer'] != certain_sample['pred_answer']]['question'].values[i])\n",
    "print('=================================================')\n",
    "print(certain_sample[certain_sample['answer'] != certain_sample['pred_answer']]['answer'].values[i])\n",
    "print('=================================================')\n",
    "print(certain_sample[certain_sample['answer'] != certain_sample['pred_answer']]['pred_answer'].values[i])"
   ]
  },
  {
   "cell_type": "code",
   "execution_count": 35,
   "metadata": {},
   "outputs": [
    {
     "name": "stdout",
     "output_type": "stream",
     "text": [
      "What are the treatments for distal hereditary motor neuropathy, type V ?\n",
      "=================================================\n",
      "These resources address the diagnosis or management of distal hereditary motor neuropathy, type V:  - Gene Review: Gene Review: BSCL2-Related Neurologic Disorders/Seipinopathy  - Gene Review: Gene Review: GARS-Associated Axonal Neuropathy  - Genetic Testing Registry: Distal hereditary motor neuronopathy type 5  - Genetic Testing Registry: Distal hereditary motor neuronopathy type 5B  - MedlinePlus Encyclopedia: High-Arched Foot   These resources from MedlinePlus offer information about the diagnosis and management of various health conditions:  - Diagnostic Tests  - Drug Therapy  - Surgery and Rehabilitation  - Genetic Counseling   - Palliative Care\n",
      "=================================================\n",
      "There are no standard treatments for hereditary neuropathies. Treatment is mainly symptomatic and supportive. Medical treatment includes physical therapy and if needed, pain medication. Orthopedic surgery may be needed to correct severe foot or other skeletal deformities. Bracing may also be used to improve mobility.\n"
     ]
    }
   ],
   "source": [
    "i  = 3\n",
    "print(certain_sample[certain_sample['answer'] != certain_sample['pred_answer']]['question'].values[i])\n",
    "print('=================================================')\n",
    "print(certain_sample[certain_sample['answer'] != certain_sample['pred_answer']]['answer'].values[i])\n",
    "print('=================================================')\n",
    "print(certain_sample[certain_sample['answer'] != certain_sample['pred_answer']]['pred_answer'].values[i])"
   ]
  },
  {
   "cell_type": "code",
   "execution_count": 36,
   "metadata": {
    "scrolled": true
   },
   "outputs": [
    {
     "name": "stdout",
     "output_type": "stream",
     "text": [
      "What are the symptoms of Dystonia 18 ?\n",
      "=================================================\n",
      "What are the signs and symptoms of Dystonia 18? The Human Phenotype Ontology provides the following list of signs and symptoms for Dystonia 18. If the information is available, the table below includes how often the symptom is seen in people with this condition. You can use the MedlinePlus Medical Dictionary to look up the definitions for these medical terms. Signs and Symptoms Approximate number of patients (when available) Irritability 5% Migraine 5% Ataxia - Autosomal dominant inheritance - Cerebral atrophy - Choreoathetosis - Cognitive impairment - Dyskinesia - Dystonia - EEG abnormality - Hypoglycorrhachia - Incomplete penetrance - Reticulocytosis - The Human Phenotype Ontology (HPO) has collected information on how often a sign or symptom occurs in a condition. Much of this information comes from Orphanet, a European rare disease database. The frequency of a sign or symptom is usually listed as a rough estimate of the percentage of patients who have that feature. The frequency may also be listed as a fraction. The first number of the fraction is how many people had the symptom, and the second number is the total number of people who were examined in one study. For example, a frequency of 25/25 means that in a study of 25 people all patients were found to have that symptom. Because these frequencies are based on a specific study, the fractions may be different if another group of patients are examined. Sometimes, no information on frequency is available. In these cases, the sign or symptom may be rare or common.\n",
      "=================================================\n",
      "What are the signs and symptoms of Dystonia 16? The Human Phenotype Ontology provides the following list of signs and symptoms for Dystonia 16. If the information is available, the table below includes how often the symptom is seen in people with this condition. You can use the MedlinePlus Medical Dictionary to look up the definitions for these medical terms. Signs and Symptoms Approximate number of patients (when available) Cognitive impairment 5% Abnormal pyramidal signs - Autosomal recessive inheritance - Bradykinesia - Delayed speech and language development - Dysarthria - Dysphagia - Gait disturbance - Hyperreflexia - Involuntary movements - Laryngeal dystonia - Limb dystonia - Lower limb pain - Morphological abnormality of the pyramidal tract - Motor delay - Parkinsonism - Postural tremor - Progressive - Retrocollis - The Human Phenotype Ontology (HPO) has collected information on how often a sign or symptom occurs in a condition. Much of this information comes from Orphanet, a European rare disease database. The frequency of a sign or symptom is usually listed as a rough estimate of the percentage of patients who have that feature. The frequency may also be listed as a fraction. The first number of the fraction is how many people had the symptom, and the second number is the total number of people who were examined in one study. For example, a frequency of 25/25 means that in a study of 25 people all patients were found to have that symptom. Because these frequencies are based on a specific study, the fractions may be different if another group of patients are examined. Sometimes, no information on frequency is available. In these cases, the sign or symptom may be rare or common.\n"
     ]
    }
   ],
   "source": [
    "i  = 4\n",
    "print(certain_sample[certain_sample['answer'] != certain_sample['pred_answer']]['question'].values[i])\n",
    "print('=================================================')\n",
    "print(certain_sample[certain_sample['answer'] != certain_sample['pred_answer']]['answer'].values[i])\n",
    "print('=================================================')\n",
    "print(certain_sample[certain_sample['answer'] != certain_sample['pred_answer']]['pred_answer'].values[i])"
   ]
  }
 ],
 "metadata": {
  "kernelspec": {
   "display_name": "Python 3 (ipykernel)",
   "language": "python",
   "name": "python3"
  },
  "language_info": {
   "codemirror_mode": {
    "name": "ipython",
    "version": 3
   },
   "file_extension": ".py",
   "mimetype": "text/x-python",
   "name": "python",
   "nbconvert_exporter": "python",
   "pygments_lexer": "ipython3",
   "version": "3.9.13"
  }
 },
 "nbformat": 4,
 "nbformat_minor": 4
}
